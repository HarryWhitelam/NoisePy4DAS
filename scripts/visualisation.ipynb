{
 "cells": [
  {
   "cell_type": "code",
   "execution_count": 18,
   "metadata": {},
   "outputs": [],
   "source": [
    "import sys\n",
    "sys.path.append(\"../src\")\n",
    "sys.path.append(\"../DASstore\")\n",
    "\n",
    "import os\n",
    "print(os.getcwd())"
   ]
  },
  {
   "cell_type": "code",
   "execution_count": 19,
   "metadata": {},
   "outputs": [
    {
     "ename": "ModuleNotFoundError",
     "evalue": "No module named 'TDMS_Read'",
     "output_type": "error",
     "traceback": [
      "\u001b[0;31m---------------------------------------------------------------------------\u001b[0m",
      "\u001b[0;31mModuleNotFoundError\u001b[0m                       Traceback (most recent call last)",
      "Cell \u001b[0;32mIn[19], line 2\u001b[0m\n\u001b[1;32m      1\u001b[0m \u001b[38;5;28;01mfrom\u001b[39;00m \u001b[38;5;21;01mdatetime\u001b[39;00m \u001b[38;5;28;01mimport\u001b[39;00m datetime\n\u001b[0;32m----> 2\u001b[0m \u001b[38;5;28;01mfrom\u001b[39;00m \u001b[38;5;21;01mtdms_io\u001b[39;00m \u001b[38;5;28;01mimport\u001b[39;00m get_reader_array, get_data_from_array, get_dir_properties, load_xcorr\n\u001b[1;32m      3\u001b[0m \u001b[38;5;28;01mfrom\u001b[39;00m \u001b[38;5;21;01mvisualisation\u001b[39;00m \u001b[38;5;28;01mimport\u001b[39;00m ts_spectrogram, psd_with_channel_slicing, animated_spectrogram, plot_gps_coords\n",
      "File \u001b[0;32m~/Documents/0. PhD/DiSTANS/Toolkit/NoisePy4DAS-SeaDAS/scripts/tdms_io.py:5\u001b[0m\n\u001b[1;32m      2\u001b[0m sys\u001b[38;5;241m.\u001b[39mpath\u001b[38;5;241m.\u001b[39mappend(\u001b[38;5;124m\"\u001b[39m\u001b[38;5;124m./src\u001b[39m\u001b[38;5;124m\"\u001b[39m)\n\u001b[1;32m      3\u001b[0m sys\u001b[38;5;241m.\u001b[39mpath\u001b[38;5;241m.\u001b[39mappend(\u001b[38;5;124m\"\u001b[39m\u001b[38;5;124m./DASstore\u001b[39m\u001b[38;5;124m\"\u001b[39m)\n\u001b[0;32m----> 5\u001b[0m \u001b[38;5;28;01mfrom\u001b[39;00m \u001b[38;5;21;01mTDMS_Read\u001b[39;00m \u001b[38;5;28;01mimport\u001b[39;00m TdmsReader\n\u001b[1;32m      6\u001b[0m \u001b[38;5;28;01mfrom\u001b[39;00m \u001b[38;5;21;01mSegyReader\u001b[39;00m \u001b[38;5;28;01mimport\u001b[39;00m SegyReader\n\u001b[1;32m      7\u001b[0m \u001b[38;5;28;01mimport\u001b[39;00m \u001b[38;5;21;01mos\u001b[39;00m\n",
      "\u001b[0;31mModuleNotFoundError\u001b[0m: No module named 'TDMS_Read'"
     ]
    }
   ],
   "source": [
    "from datetime import datetime\n",
    "from tdms_io import get_reader_array, get_data_from_array, get_dir_properties, load_xcorr\n",
    "from visualisation import ts_spectrogram, psd_with_channel_slicing, animated_spectrogram, plot_gps_coords"
   ]
  },
  {
   "cell_type": "code",
   "execution_count": null,
   "metadata": {},
   "outputs": [],
   "source": [
    "dir_path = \"../../temp_data_store/FirstData/\"\n",
    "dir_path = \"../../../../gpfs/data/DAS_data/Data/\"\n",
    "dir_path = \"../../../../gpfs/scratch/gfs19eku/20240205/\"\n",
    "task_t0 = datetime(year = 2024, month = 2, day = 5, \n",
    "                   hour = 12, minute = 1, second = 0, microsecond = 0)\n",
    "\n",
    "properties = get_dir_properties(dir_path)\n",
    "prepro_para = {\n",
    "    'cha1': 4000,\n",
    "    'cha2': 4001,\n",
    "    'sps': properties.get('SamplingFrequency[Hz]'),\n",
    "    'spatial_ratio': int(1 / properties.get('SpatialResolution[m]')),          # int(target_spatial_res/spatial_res)\n",
    "    'n_minute': 4320,\n",
    "    'freqmax': 49.9,\n",
    "    'freqmin': 1,\n",
    "}\n",
    "\n",
    "ts_spectrogram(dir_path, prepro_para, task_t0)\n",
    "\n",
    "reader_array, timestamps = get_reader_array(dir_path)"
   ]
  },
  {
   "cell_type": "code",
   "execution_count": null,
   "metadata": {},
   "outputs": [],
   "source": [
    "channel_slices = [[1500, 1500], [3000, 3000], [5000, 5000], [7000, 7000]]\n",
    "psd_with_channel_slicing(reader_array, prepro_para, task_t0, timestamps, channel_slices)"
   ]
  },
  {
   "cell_type": "code",
   "execution_count": null,
   "metadata": {},
   "outputs": [],
   "source": [
    "animated_spectrogram(reader_array, prepro_para, task_t0, timestamps)"
   ]
  },
  {
   "cell_type": "code",
   "execution_count": null,
   "metadata": {},
   "outputs": [],
   "source": [
    "plot_gps_coords('results/linewalk_gps.csv')"
   ]
  },
  {
   "cell_type": "markdown",
   "metadata": {},
   "source": [
    "### xCorr stuff"
   ]
  },
  {
   "cell_type": "code",
   "execution_count": 1,
   "metadata": {},
   "outputs": [
    {
     "ename": "NameError",
     "evalue": "name 'load_xcorr' is not defined",
     "output_type": "error",
     "traceback": [
      "\u001b[0;31m---------------------------------------------------------------------------\u001b[0m",
      "\u001b[0;31mNameError\u001b[0m                                 Traceback (most recent call last)",
      "Cell \u001b[0;32mIn[1], line 2\u001b[0m\n\u001b[1;32m      1\u001b[0m corr_path \u001b[38;5;241m=\u001b[39m \u001b[38;5;124m'\u001b[39m\u001b[38;5;124m../results/saved_corrs/2024-02-05 12:01:00_4320mins_f0.01:49.9__3850:5750_1m.txt\u001b[39m\u001b[38;5;124m'\u001b[39m\n\u001b[0;32m----> 2\u001b[0m stream \u001b[38;5;241m=\u001b[39m \u001b[43mload_xcorr\u001b[49m(corr_path, as_stream\u001b[38;5;241m=\u001b[39m\u001b[38;5;28;01mTrue\u001b[39;00m)\n\u001b[1;32m      4\u001b[0m dx \u001b[38;5;241m=\u001b[39m \u001b[38;5;241m1.0\u001b[39m\n\u001b[1;32m      5\u001b[0m \u001b[38;5;28;01mfor\u001b[39;00m i \u001b[38;5;129;01min\u001b[39;00m \u001b[38;5;28mrange\u001b[39m(\u001b[38;5;241m0\u001b[39m, \u001b[38;5;28mlen\u001b[39m(stream)):\n",
      "\u001b[0;31mNameError\u001b[0m: name 'load_xcorr' is not defined"
     ]
    }
   ],
   "source": [
    "corr_path = '../results/saved_corrs/2024-02-05 12:01:00_4320mins_f0.01:49.9__3850:5750_1m.txt'\n",
    "stream = load_xcorr(corr_path, as_stream=True)\n",
    "\n",
    "dx = 1.0\n",
    "for i in range(0, len(stream)):\n",
    "    stream[i].stats.distance = i*dx\n",
    "# stream.filter(\"bandpass\", freqmin=5, freqmax=50)\n",
    "stream.plot(type='section', fillcolors=('k', None))\n",
    "# recordstart=6, recordlength=4"
   ]
  }
 ],
 "metadata": {
  "kernelspec": {
   "display_name": "seismic",
   "language": "python",
   "name": "python3"
  },
  "language_info": {
   "codemirror_mode": {
    "name": "ipython",
    "version": 3
   },
   "file_extension": ".py",
   "mimetype": "text/x-python",
   "name": "python",
   "nbconvert_exporter": "python",
   "pygments_lexer": "ipython3",
   "version": "3.10.13"
  }
 },
 "nbformat": 4,
 "nbformat_minor": 2
}
