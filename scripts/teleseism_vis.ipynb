{
 "cells": [
  {
   "cell_type": "code",
   "execution_count": 2,
   "metadata": {},
   "outputs": [],
   "source": [
    "import sys\n",
    "sys.path.append(\"../src/\")\n",
    "\n",
    "import datetime\n",
    "from tqdm.notebook import tqdm\n",
    "import numpy as np\n",
    "\n",
    "from tdms_io import get_reader_array, get_data_from_array, get_dir_properties"
   ]
  },
  {
   "cell_type": "code",
   "execution_count": 9,
   "metadata": {},
   "outputs": [
    {
     "name": "stdout",
     "output_type": "stream",
     "text": [
      "180 files available from 2025-03-28 06:30:25.948612 to 2025-03-28 07:59:55.948612\n"
     ]
    }
   ],
   "source": [
    "reader_array, timestamps = get_reader_array(\"/media/harry/Elements/DAS_Data/Myanmar_Quake/\")\n",
    "props = get_dir_properties(\"/media/harry/Elements/DAS_Data/Myanmar_Quake/\")\n",
    "prepro_para = {\n",
    "        'cha1': 900,\n",
    "        'cha2': 1300,\n",
    "        'sps': props.get('SamplingFrequency[Hz]'),\n",
    "        'spatial_res': props.get('SpatialResolution[m]'),\n",
    "        'spatial_ratio': 1,\n",
    "        'n_minute': 1,\n",
    "        'freqmax': 49.9,\n",
    "        'freqmin': 1,\n",
    "}\n",
    "\n",
    "t0 = datetime.datetime.strptime(\"2025-03-28T06:30:00\", \"%Y-%m-%dT%H:%M:%S\")"
   ]
  },
  {
   "cell_type": "code",
   "execution_count": null,
   "metadata": {},
   "outputs": [
    {
     "ename": "TypeError",
     "evalue": "function missing required argument 'year' (pos 1)",
     "output_type": "error",
     "traceback": [
      "\u001b[0;31m---------------------------------------------------------------------------\u001b[0m",
      "\u001b[0;31mTypeError\u001b[0m                                 Traceback (most recent call last)",
      "Cell \u001b[0;32mIn[10], line 1\u001b[0m\n\u001b[0;32m----> 1\u001b[0m data \u001b[38;5;241m=\u001b[39m get_data_from_array(reader_array, prepro_para, t0, timestamps, duration\u001b[38;5;241m=\u001b[39m\u001b[43mdatetime\u001b[49m\u001b[38;5;241;43m.\u001b[39;49m\u001b[43mdatetime\u001b[49m\u001b[43m(\u001b[49m\u001b[43mminute\u001b[49m\u001b[38;5;241;43m=\u001b[39;49m\u001b[38;5;241;43m1\u001b[39;49m\u001b[43m)\u001b[49m)\n\u001b[1;32m      2\u001b[0m \u001b[38;5;28mprint\u001b[39m(data)\n",
      "\u001b[0;31mTypeError\u001b[0m: function missing required argument 'year' (pos 1)"
     ]
    }
   ],
   "source": [
    "data = get_data_from_array(reader_array, prepro_para, t0, timestamps, duration=datetime.timedelta(minute=1))\n",
    "print(data)"
   ]
  }
 ],
 "metadata": {
  "kernelspec": {
   "display_name": "seismic",
   "language": "python",
   "name": "python3"
  },
  "language_info": {
   "codemirror_mode": {
    "name": "ipython",
    "version": 3
   },
   "file_extension": ".py",
   "mimetype": "text/x-python",
   "name": "python",
   "nbconvert_exporter": "python",
   "pygments_lexer": "ipython3",
   "version": "3.10.13"
  }
 },
 "nbformat": 4,
 "nbformat_minor": 2
}
