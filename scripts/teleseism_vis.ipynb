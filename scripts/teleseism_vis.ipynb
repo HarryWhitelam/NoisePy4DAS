{
 "cells": [
  {
   "cell_type": "code",
   "execution_count": 2,
   "metadata": {},
   "outputs": [],
   "source": [
    "import sys\n",
    "sys.path.append(\"../src/\")\n",
    "\n",
    "import datetime\n",
    "from tqdm.notebook import tqdm\n",
    "import numpy as np\n",
    "\n",
    "from tdms_io import get_reader_array, get_data_from_array, get_dir_properties"
   ]
  },
  {
   "cell_type": "code",
   "execution_count": 9,
   "metadata": {},
   "outputs": [
    {
     "name": "stdout",
     "output_type": "stream",
     "text": [
      "180 files available from 2025-03-28 06:30:25.948612 to 2025-03-28 07:59:55.948612\n"
     ]
    }
   ],
   "source": [
    "reader_array, timestamps = get_reader_array(\"/media/harry/Elements/DAS_Data/Myanmar_Quake/\")\n",
    "props = get_dir_properties(\"/media/harry/Elements/DAS_Data/Myanmar_Quake/\")\n",
    "prepro_para = {\n",
    "        'cha1': 900,\n",
    "        'cha2': 1300,\n",
    "        'sps': props.get('SamplingFrequency[Hz]'),\n",
    "        'spatial_res': props.get('SpatialResolution[m]'),\n",
    "        'spatial_ratio': 1,\n",
    "        'n_minute': 1,\n",
    "        'freqmax': 49.9,\n",
    "        'freqmin': 1,\n",
    "}\n",
    "\n",
    "t0 = datetime.datetime.strptime(\"2025-03-28T06:30:00\", \"%Y-%m-%dT%H:%M:%S\")"
   ]
  },
  {
   "cell_type": "code",
   "execution_count": 13,
   "metadata": {},
   "outputs": [
    {
     "name": "stdout",
     "output_type": "stream",
     "text": [
      "[[  -5.6640625   -38.23242188   48.14453125 ...   43.89648438\n",
      "    21.24023438  -56.640625  ]\n",
      " [ -15.57617188   31.15234375  107.6171875  ...   32.56835938\n",
      "    19.82421875  -69.38476562]\n",
      " [   2.83203125   -8.49609375   24.07226562 ... -117.52929688\n",
      "   -67.96875      65.13671875]\n",
      " ...\n",
      " [  14.16015625   21.24023438  -12.74414062 ...   24.07226562\n",
      "   -65.13671875    1.41601562]\n",
      " [ -73.6328125   -76.46484375   31.15234375 ... -107.6171875\n",
      "    75.04882812   -1.41601562]\n",
      " [-103.36914062 -150.09765625   -2.83203125 ...   25.48828125\n",
      "    72.21679688   69.38476562]]\n"
     ]
    }
   ],
   "source": [
    "data = get_data_from_array(reader_array, prepro_para, t0, timestamps, duration=datetime.timedelta(minutes=1))\n",
    "print(data)"
   ]
  }
 ],
 "metadata": {
  "kernelspec": {
   "display_name": "seismic",
   "language": "python",
   "name": "python3"
  },
  "language_info": {
   "codemirror_mode": {
    "name": "ipython",
    "version": 3
   },
   "file_extension": ".py",
   "mimetype": "text/x-python",
   "name": "python",
   "nbconvert_exporter": "python",
   "pygments_lexer": "ipython3",
   "version": "3.10.13"
  }
 },
 "nbformat": 4,
 "nbformat_minor": 2
}
